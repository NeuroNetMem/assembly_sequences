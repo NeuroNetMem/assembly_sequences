{
 "cells": [
  {
   "cell_type": "code",
   "execution_count": 1,
   "metadata": {},
   "outputs": [],
   "source": [
    "%load_ext autoreload\n",
    "%autoreload 2\n",
    "import numpy as np\n",
    "import brian2 as bb\n",
    "from brian2 import ms, second, Hz, mV, pA, nS, pF\n",
    "from matplotlib import pyplot as plt\n",
    "from tqdm import tqdm\n",
    "import assemblyseq.assemblyseq as asq\n",
    "\n",
    "faster_run = True\n",
    "\n",
    "if faster_run:\n",
    "    bb.set_device('cpp_standalone', directory='PETH_standalone', build_on_run=False)"
   ]
  },
  {
   "cell_type": "code",
   "execution_count": 2,
   "metadata": {},
   "outputs": [
    {
     "name": "stdout",
     "output_type": "stream",
     "text": [
      "initiated  Thu May  7 14:44:33 2020\n"
     ]
    }
   ],
   "source": [
    "bb.start_scope()\n",
    "if faster_run:\n",
    "    bb.get_device().reinit()\n",
    "    bb.get_device().activate(build_on_run=False, directory='PETH_standalone')\n",
    "\n",
    "nn = asq.Nets(Ne=20000, Ni=5000, cp_ee=.01, cp_ie=.01, cp_ei=0.01, cp_ii=.01,\n",
    "              n_ass=4, s_ass=500, pr=.15, pf=.03, symmetric_sequence=True, p_rev=.03,\n",
    "              g_ee=0.1 * nS, g_ie=0.1 * nS, g_ei=0.4 * nS, g_ii=0.4 * nS)"
   ]
  },
  {
   "cell_type": "code",
   "execution_count": 3,
   "metadata": {},
   "outputs": [
    {
     "name": "stdout",
     "output_type": "stream",
     "text": [
      "A random sequence without overlaps is created\n"
     ]
    },
    {
     "name": "stderr",
     "output_type": "stream",
     "text": [
      "100%|██████████| 4/4 [00:00<00:00, 75.80it/s]"
     ]
    },
    {
     "name": "stdout",
     "output_type": "stream",
     "text": [
      "connections imprinted!  Thu May  7 14:44:40 2020\n"
     ]
    },
    {
     "name": "stderr",
     "output_type": "stream",
     "text": [
      "\n"
     ]
    },
    {
     "name": "stdout",
     "output_type": "stream",
     "text": [
      "balanced:  0.4028899669647217\n",
      "balanced:  0.16179513931274414\n",
      "balanced:  0.20635628700256348\n",
      "balanced:  0.1691117286682129\n",
      "run:  0.17310690879821777\n"
     ]
    }
   ],
   "source": [
    "nn.generate_ps_assemblies('gen_no_overlap')\n",
    "nn.set_net_connectivity()\n",
    "\n",
    "nn.set_spike_monitor()\n",
    "nn.set_rate_monitor()\n",
    "\n",
    "for gr_num in tqdm(range(nn.n_ass)):\n",
    "    gr = nn.p_ass_index[0][gr_num]\n",
    "    t_inp = (20.55 + gr_num * .1) * second\n",
    "    nn.set_noisy_input(gr, t_inp, sigma=0 * ms)\n",
    "\n",
    "nn.balance(5 * second, 5.)\n",
    "nn.balance(5 * second, 1.)\n",
    "nn.balance(5 * second, .1)\n",
    "nn.balance(5 * second, .01)\n",
    "nn.run_sim(22*second)\n",
    "# nn.Pe.I -= .0 * pA\n",
    "if faster_run:\n",
    "    bb.device.build(directory='STDP_standalone', compile=True, run=True, debug=False)"
   ]
  },
  {
   "cell_type": "code",
   "execution_count": 8,
   "metadata": {},
   "outputs": [
    {
     "data": {
      "text/plain": [
       "<Subgroup 'neurongroup_subgroup_2' of 'neurongroup' from 2 to 3>"
      ]
     },
     "execution_count": 8,
     "metadata": {},
     "output_type": "execute_result"
    }
   ],
   "source": [
    "nn.Pe[2]"
   ]
  },
  {
   "cell_type": "code",
   "execution_count": 5,
   "metadata": {},
   "outputs": [
    {
     "data": {
      "text/plain": [
       "4"
      ]
     },
     "execution_count": 5,
     "metadata": {},
     "output_type": "execute_result"
    }
   ],
   "source": [
    "gr_num"
   ]
  },
  {
   "cell_type": "code",
   "execution_count": null,
   "metadata": {},
   "outputs": [],
   "source": []
  }
 ],
 "metadata": {
  "kernelspec": {
   "display_name": "Python 3",
   "language": "python",
   "name": "python3"
  },
  "language_info": {
   "codemirror_mode": {
    "name": "ipython",
    "version": 3
   },
   "file_extension": ".py",
   "mimetype": "text/x-python",
   "name": "python",
   "nbconvert_exporter": "python",
   "pygments_lexer": "ipython3",
   "version": "3.6.10"
  }
 },
 "nbformat": 4,
 "nbformat_minor": 4
}
