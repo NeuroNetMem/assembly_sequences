{
 "cells": [
  {
   "cell_type": "code",
   "execution_count": 1,
   "metadata": {},
   "outputs": [],
   "source": [
    "%load_ext autoreload\n",
    "%autoreload 2\n",
    "import brian2.numpy_ as np\n",
    "import brian2.only as bb\n",
    "from brian2 import ms, second, Hz, mV, pA, nS, pF\n",
    "from matplotlib import pyplot as plt\n",
    "from tqdm import tqdm\n",
    "import assemblyseq.assemblyseq as asq\n",
    "\n",
    "from assemblyseq import plotter\n",
    "import assemblyseq.calc_spikes as cs\n",
    "\n",
    "\n",
    "faster_run = True\n",
    "\n",
    "if faster_run:\n",
    "    bb.set_device('cpp_standalone', directory='PETH_standalone', build_on_run=False)"
   ]
  },
  {
   "cell_type": "code",
   "execution_count": null,
   "metadata": {},
   "outputs": [],
   "source": []
  },
  {
   "cell_type": "code",
   "execution_count": 4,
   "metadata": {},
   "outputs": [
    {
     "data": {
      "text/plain": [
       "{'__name__': 'assemblyseq.assemblyseq',\n",
       " '__doc__': None,\n",
       " '__package__': 'assemblyseq',\n",
       " '__loader__': <_frozen_importlib_external.SourceFileLoader at 0x7f8e213f4be0>,\n",
       " '__spec__': ModuleSpec(name='assemblyseq.assemblyseq', loader=<_frozen_importlib_external.SourceFileLoader object at 0x7f8e213f4be0>, origin='/Users/fpbatta/src/assembly_sequences/assemblyseq/assemblyseq.py'),\n",
       " '__file__': '/Users/fpbatta/src/assembly_sequences/assemblyseq/assemblyseq.py',\n",
       " '__cached__': '/Users/fpbatta/src/assembly_sequences/assemblyseq/__pycache__/assemblyseq.cpython-36.pyc',\n",
       " '__builtins__': {'__name__': 'builtins',\n",
       "  '__doc__': \"Built-in functions, exceptions, and other objects.\\n\\nNoteworthy: None is the `nil' object; Ellipsis represents `...' in slices.\",\n",
       "  '__package__': '',\n",
       "  '__loader__': _frozen_importlib.BuiltinImporter,\n",
       "  '__spec__': ModuleSpec(name='builtins', loader=<class '_frozen_importlib.BuiltinImporter'>),\n",
       "  '__build_class__': <function __build_class__>,\n",
       "  '__import__': <function __import__>,\n",
       "  'abs': <function abs(x, /)>,\n",
       "  'all': <function all(iterable, /)>,\n",
       "  'any': <function any(iterable, /)>,\n",
       "  'ascii': <function ascii(obj, /)>,\n",
       "  'bin': <function bin(number, /)>,\n",
       "  'callable': <function callable(obj, /)>,\n",
       "  'chr': <function chr(i, /)>,\n",
       "  'compile': <function compile(source, filename, mode, flags=0, dont_inherit=False, optimize=-1)>,\n",
       "  'delattr': <function delattr(obj, name, /)>,\n",
       "  'dir': <function dir>,\n",
       "  'divmod': <function divmod(x, y, /)>,\n",
       "  'eval': <function eval(source, globals=None, locals=None, /)>,\n",
       "  'exec': <function exec(source, globals=None, locals=None, /)>,\n",
       "  'format': <function format(value, format_spec='', /)>,\n",
       "  'getattr': <function getattr>,\n",
       "  'globals': <function globals()>,\n",
       "  'hasattr': <function hasattr(obj, name, /)>,\n",
       "  'hash': <function hash(obj, /)>,\n",
       "  'hex': <function hex(number, /)>,\n",
       "  'id': <function id(obj, /)>,\n",
       "  'input': <bound method Kernel.raw_input of <ipykernel.ipkernel.IPythonKernel object at 0x7f8e901a59b0>>,\n",
       "  'isinstance': <function isinstance(obj, class_or_tuple, /)>,\n",
       "  'issubclass': <function issubclass(cls, class_or_tuple, /)>,\n",
       "  'iter': <function iter>,\n",
       "  'len': <function len(obj, /)>,\n",
       "  'locals': <function locals()>,\n",
       "  'max': <function max>,\n",
       "  'min': <function min>,\n",
       "  'next': <function next>,\n",
       "  'oct': <function oct(number, /)>,\n",
       "  'ord': <function ord(c, /)>,\n",
       "  'pow': <function pow(x, y, z=None, /)>,\n",
       "  'print': <function print>,\n",
       "  'repr': <function repr(obj, /)>,\n",
       "  'round': <function round>,\n",
       "  'setattr': <function setattr(obj, name, value, /)>,\n",
       "  'sorted': <function sorted(iterable, /, *, key=None, reverse=False)>,\n",
       "  'sum': <function sum(iterable, start=0, /)>,\n",
       "  'vars': <function vars>,\n",
       "  'None': None,\n",
       "  'Ellipsis': Ellipsis,\n",
       "  'NotImplemented': NotImplemented,\n",
       "  'False': False,\n",
       "  'True': True,\n",
       "  'bool': bool,\n",
       "  'memoryview': memoryview,\n",
       "  'bytearray': bytearray,\n",
       "  'bytes': bytes,\n",
       "  'classmethod': classmethod,\n",
       "  'complex': complex,\n",
       "  'dict': dict,\n",
       "  'enumerate': enumerate,\n",
       "  'filter': filter,\n",
       "  'float': float,\n",
       "  'frozenset': frozenset,\n",
       "  'property': property,\n",
       "  'int': int,\n",
       "  'list': list,\n",
       "  'map': map,\n",
       "  'object': object,\n",
       "  'range': range,\n",
       "  'reversed': reversed,\n",
       "  'set': set,\n",
       "  'slice': slice,\n",
       "  'staticmethod': staticmethod,\n",
       "  'str': str,\n",
       "  'super': super,\n",
       "  'tuple': tuple,\n",
       "  'type': type,\n",
       "  'zip': zip,\n",
       "  '__debug__': True,\n",
       "  'BaseException': BaseException,\n",
       "  'Exception': Exception,\n",
       "  'TypeError': TypeError,\n",
       "  'StopAsyncIteration': StopAsyncIteration,\n",
       "  'StopIteration': StopIteration,\n",
       "  'GeneratorExit': GeneratorExit,\n",
       "  'SystemExit': SystemExit,\n",
       "  'KeyboardInterrupt': KeyboardInterrupt,\n",
       "  'ImportError': ImportError,\n",
       "  'ModuleNotFoundError': ModuleNotFoundError,\n",
       "  'OSError': OSError,\n",
       "  'EnvironmentError': OSError,\n",
       "  'IOError': OSError,\n",
       "  'EOFError': EOFError,\n",
       "  'RuntimeError': RuntimeError,\n",
       "  'RecursionError': RecursionError,\n",
       "  'NotImplementedError': NotImplementedError,\n",
       "  'NameError': NameError,\n",
       "  'UnboundLocalError': UnboundLocalError,\n",
       "  'AttributeError': AttributeError,\n",
       "  'SyntaxError': SyntaxError,\n",
       "  'IndentationError': IndentationError,\n",
       "  'TabError': TabError,\n",
       "  'LookupError': LookupError,\n",
       "  'IndexError': IndexError,\n",
       "  'KeyError': KeyError,\n",
       "  'ValueError': ValueError,\n",
       "  'UnicodeError': UnicodeError,\n",
       "  'UnicodeEncodeError': UnicodeEncodeError,\n",
       "  'UnicodeDecodeError': UnicodeDecodeError,\n",
       "  'UnicodeTranslateError': UnicodeTranslateError,\n",
       "  'AssertionError': AssertionError,\n",
       "  'ArithmeticError': ArithmeticError,\n",
       "  'FloatingPointError': FloatingPointError,\n",
       "  'OverflowError': OverflowError,\n",
       "  'ZeroDivisionError': ZeroDivisionError,\n",
       "  'SystemError': SystemError,\n",
       "  'ReferenceError': ReferenceError,\n",
       "  'BufferError': BufferError,\n",
       "  'MemoryError': MemoryError,\n",
       "  'Warning': Warning,\n",
       "  'UserWarning': UserWarning,\n",
       "  'DeprecationWarning': DeprecationWarning,\n",
       "  'PendingDeprecationWarning': PendingDeprecationWarning,\n",
       "  'SyntaxWarning': SyntaxWarning,\n",
       "  'RuntimeWarning': RuntimeWarning,\n",
       "  'FutureWarning': FutureWarning,\n",
       "  'ImportWarning': ImportWarning,\n",
       "  'UnicodeWarning': UnicodeWarning,\n",
       "  'BytesWarning': BytesWarning,\n",
       "  'ResourceWarning': ResourceWarning,\n",
       "  'ConnectionError': ConnectionError,\n",
       "  'BlockingIOError': BlockingIOError,\n",
       "  'BrokenPipeError': BrokenPipeError,\n",
       "  'ChildProcessError': ChildProcessError,\n",
       "  'ConnectionAbortedError': ConnectionAbortedError,\n",
       "  'ConnectionRefusedError': ConnectionRefusedError,\n",
       "  'ConnectionResetError': ConnectionResetError,\n",
       "  'FileExistsError': FileExistsError,\n",
       "  'FileNotFoundError': FileNotFoundError,\n",
       "  'IsADirectoryError': IsADirectoryError,\n",
       "  'NotADirectoryError': NotADirectoryError,\n",
       "  'InterruptedError': InterruptedError,\n",
       "  'PermissionError': PermissionError,\n",
       "  'ProcessLookupError': ProcessLookupError,\n",
       "  'TimeoutError': TimeoutError,\n",
       "  'open': <function io.open(file, mode='r', buffering=-1, encoding=None, errors=None, newline=None, closefd=True, opener=None)>,\n",
       "  'copyright': Copyright (c) 2001-2019 Python Software Foundation.\n",
       "  All Rights Reserved.\n",
       "  \n",
       "  Copyright (c) 2000 BeOpen.com.\n",
       "  All Rights Reserved.\n",
       "  \n",
       "  Copyright (c) 1995-2001 Corporation for National Research Initiatives.\n",
       "  All Rights Reserved.\n",
       "  \n",
       "  Copyright (c) 1991-1995 Stichting Mathematisch Centrum, Amsterdam.\n",
       "  All Rights Reserved.,\n",
       "  'credits':     Thanks to CWI, CNRI, BeOpen.com, Zope Corporation and a cast of thousands\n",
       "      for supporting Python development.  See www.python.org for more information.,\n",
       "  'license': Type license() to see the full license text,\n",
       "  'help': Type help() for interactive help, or help(object) for help about object.,\n",
       "  '__IPYTHON__': True,\n",
       "  'display': <function IPython.core.display.display(*objs, include=None, exclude=None, metadata=None, transient=None, display_id=None, **kwargs)>,\n",
       "  '__pybind11_internals_v3_clang_libcpp_cxxabi1002__': <capsule object NULL at 0x7f8e80cc1990>,\n",
       "  'get_ipython': <bound method InteractiveShell.get_ipython of <ipykernel.zmqshell.ZMQInteractiveShell object at 0x7f8e901a5d30>>},\n",
       " 'np': <module 'brian2.numpy_' from '/Users/fpbatta/.conda/envs/brian2/lib/python3.6/site-packages/brian2/numpy_.py'>,\n",
       " 'bb': <module 'brian2.only' from '/Users/fpbatta/.conda/envs/brian2/lib/python3.6/site-packages/brian2/only.py'>,\n",
       " 'ms': msecond,\n",
       " 'second': second,\n",
       " 'Hz': hertz,\n",
       " 'mV': mvolt,\n",
       " 'pA': pamp,\n",
       " 'nS': nsiemens,\n",
       " 'pF': pfarad,\n",
       " 'time': <function time.time>,\n",
       " 'asctime': <function time.asctime>,\n",
       " 'plotter': <module 'assemblyseq.plotter' from '/Users/fpbatta/src/assembly_sequences/assemblyseq/plotter.py'>,\n",
       " 'calc_spikes': <module 'assemblyseq.calc_spikes' from '/Users/fpbatta/src/assembly_sequences/assemblyseq/calc_spikes.py'>,\n",
       " 'g_l': 10. * nsiemens,\n",
       " 'C_m': 200. * pfarad,\n",
       " 'v_r': -60. * mvolt,\n",
       " 'v_e': 0. * volt,\n",
       " 'v_i': -80. * mvolt,\n",
       " 'tau_m_exc': 20. * msecond,\n",
       " 'tau_m_inh': 20. * msecond,\n",
       " 'tau_inh': 10. * msecond,\n",
       " 'tau_fast_inh': 10. * msecond,\n",
       " 'tau_exc': 5. * msecond,\n",
       " 'tau_stdp': 20. * msecond,\n",
       " 'alpha': 0.2,\n",
       " 'g_min': 0. * siemens,\n",
       " 'g_max': 50. * nsiemens,\n",
       " 'eqs_exc': 'dv/dt = (g_l*(v_r-v)+Ie+Ii+I)/(C_m) : volt\\n            dge/dt = -ge/(tau_exc) : siemens\\n            dgi/dt = -gi/(tau_inh) : siemens\\n            Ie = ge*(v_e-v) : amp\\n            Ii = gi*(v_i-v) : amp\\n            I : amp ',\n",
       " 'eqs_inh': 'dv/dt = (g_l*(v_r-v)+Ie+Ii+I)/(C_m) : volt\\n            dge/dt = -ge/(tau_exc) : siemens\\n            dgi/dt = -gi/(tau_inh) : siemens\\n            Ie = ge*(v_e-v) : amp\\n            Ii = gi*(v_i-v) : amp\\n            I : amp ',\n",
       " 'eq_stdp': 'dapost/dt = -apost/tau_stdp : 1 (event-driven)\\n            dapre/dt = -apre/tau_stdp : 1 (event-driven)\\n            w: siemens ',\n",
       " 'eq_pre': 'gi_post+=w\\n            w=clip(w+eta_p*(apost-alpha)*g_ei,g_min,g_max)\\n            apre+=1',\n",
       " 'eq_post': 'w=clip(w+eta_p*apre*g_ei,g_min,g_max)\\n            apost+=1',\n",
       " 'Pointless': assemblyseq.assemblyseq.Pointless,\n",
       " 'eta': <assemblyseq.assemblyseq.Pointless at 0x7f8e2171f208>,\n",
       " 'syn_input_freq': 1. * hertz,\n",
       " 'myclock': Clock(dt=10. * msecond, name='clock'),\n",
       " 'inject': NetworkOperation(clock=Clock(dt=100. * usecond, name='defaultclock'), when=start, order=0, name='networkoperation'),\n",
       " 'Nets': assemblyseq.assemblyseq.Nets,\n",
       " 'test_symm': <function assemblyseq.assemblyseq.test_symm()>,\n",
       " 'test_fr': <function assemblyseq.assemblyseq.test_fr()>,\n",
       " 'test_no_ps': <function assemblyseq.assemblyseq.test_no_ps()>,\n",
       " 'test_diff_gff': <function assemblyseq.assemblyseq.test_diff_gff(Ne=20000)>,\n",
       " 'test_psps': <function assemblyseq.assemblyseq.test_psps()>,\n",
       " 'test_longseq': <function assemblyseq.assemblyseq.test_longseq()>,\n",
       " 'test_2_ass': <function assemblyseq.assemblyseq.test_2_ass(Ne=20000)>,\n",
       " 'show_ass_frs': <function assemblyseq.assemblyseq.show_ass_frs()>,\n",
       " 'test_tau': <function assemblyseq.assemblyseq.test_tau()>,\n",
       " 'test_boost_pf': <function assemblyseq.assemblyseq.test_boost_pf()>,\n",
       " 'test_boost_pf_cont': <function assemblyseq.assemblyseq.test_boost_pf_cont()>,\n",
       " 'test_slopes': <function assemblyseq.assemblyseq.test_slopes()>,\n",
       " 'test_contin': <function assemblyseq.assemblyseq.test_contin(Ne=20000)>}"
      ]
     },
     "execution_count": 4,
     "metadata": {},
     "output_type": "execute_result"
    }
   ],
   "source": [
    "asq.__dict__"
   ]
  },
  {
   "cell_type": "code",
   "execution_count": 2,
   "metadata": {},
   "outputs": [
    {
     "name": "stdout",
     "output_type": "stream",
     "text": [
      "initiated  Fri May 15 17:36:35 2020\n"
     ]
    }
   ],
   "source": [
    "bb.start_scope()\n",
    "if faster_run:\n",
    "    bb.get_device().reinit()\n",
    "    bb.get_device().activate(build_on_run=False, directory='PETH_standalone')\n",
    "\n",
    "nn = asq.Nets(Ne=20000, Ni=5000, cp_ee=.01, cp_ie=.01, cp_ei=0.01, cp_ii=.01,\n",
    "              n_ass=10, s_ass=500, pr=.15, pf=.03, symmetric_sequence=True, p_rev=.03,\n",
    "              g_ee=0.1 * nS, g_ie=0.1 * nS, g_ei=0.4 * nS, g_ii=0.4 * nS)"
   ]
  },
  {
   "cell_type": "code",
   "execution_count": 3,
   "metadata": {},
   "outputs": [
    {
     "name": "stdout",
     "output_type": "stream",
     "text": [
      "A random sequence without overlaps is created\n"
     ]
    },
    {
     "name": "stderr",
     "output_type": "stream",
     "text": [
      "100%|██████████| 10/10 [00:00<00:00, 76.44it/s]"
     ]
    },
    {
     "name": "stdout",
     "output_type": "stream",
     "text": [
      "connections imprinted!  Fri May 15 17:36:49 2020\n"
     ]
    },
    {
     "name": "stderr",
     "output_type": "stream",
     "text": [
      "\n"
     ]
    },
    {
     "name": "stdout",
     "output_type": "stream",
     "text": [
      "balanced:  0.6449201107025146\n",
      "balanced:  0.23650193214416504\n",
      "balanced:  0.23363304138183594\n",
      "balanced:  0.2296750545501709\n",
      "run:  0.23654985427856445\n"
     ]
    }
   ],
   "source": [
    "nn.generate_ps_assemblies('gen_no_overlap')\n",
    "nn.set_net_connectivity()\n",
    "\n",
    "nn.set_spike_monitor()\n",
    "nn.set_rate_monitor()\n",
    "\n",
    "for gr_num in tqdm(range(nn.n_ass)):\n",
    "    gr = nn.p_ass_index[0][gr_num]\n",
    "    t_inp = (20.55 + gr_num * .1) * second\n",
    "    nn.set_noisy_input(gr, t_inp, sigma=0 * ms)\n",
    "\n",
    "nn.set_syn_input(nn.p_ass_index[0][0], np.arange(46, 51,1))\n",
    "nn.balance(10 * second, 5.)\n",
    "nn.balance(10 * second, 5.)\n",
    "nn.balance(20 * second, .1)\n",
    "nn.balance(5 * second, .01)\n",
    "nn.run_sim(22*second)\n",
    "# nn.Pe.I -= .0 * pA"
   ]
  },
  {
   "cell_type": "code",
   "execution_count": 6,
   "metadata": {},
   "outputs": [
    {
     "name": "stdout",
     "output_type": "stream",
     "text": [
      "CPU times: user 487 ms, sys: 353 ms, total: 840 ms\n",
      "Wall time: 4min 7s\n"
     ]
    }
   ],
   "source": [
    "%%time\n",
    "if faster_run:\n",
    "    bb.device.build(directory='PETH_standalone', compile=True, run=True, debug=False)"
   ]
  },
  {
   "cell_type": "code",
   "execution_count": 8,
   "metadata": {},
   "outputs": [
    {
     "data": {
      "text/plain": [
       "(0, 1000)"
      ]
     },
     "execution_count": 8,
     "metadata": {},
     "output_type": "execute_result"
    },
    {
     "data": {
      "image/png": "[encoded data removed]",
      "text/plain": [
       "<Figure size 720x360 with 1 Axes>"
      ]
     },
     "metadata": {
      "needs_background": "light"
     },
     "output_type": "display_data"
    }
   ],
   "source": [
    "plt.figure(figsize=(10, 5))\n",
    "plt.plot(nn.mon_spike_e.t/ms, nn.mon_spike_e.i, ',k')\n",
    "plt.xlim([45800, 46200])\n",
    "plt.ylim([0, 1000])"
   ]
  },
  {
   "cell_type": "code",
   "execution_count": 16,
   "metadata": {},
   "outputs": [
    {
     "data": {
      "text/plain": [
       "<Figure size 720x360 with 0 Axes>"
      ]
     },
     "metadata": {},
     "output_type": "display_data"
    },
    {
     "data": {
      "image/png": "[encoded data removed]",
      "text/plain": [
       "<Figure size 432x288 with 2 Axes>"
      ]
     },
     "metadata": {
      "needs_background": "light"
     },
     "output_type": "display_data"
    }
   ],
   "source": [
    "plt.figure(figsize=(10, 5))\n",
    "plotter.plot_pop_fr(nn)"
   ]
  },
  {
   "cell_type": "code",
   "execution_count": 12,
   "metadata": {},
   "outputs": [],
   "source": [
    "spikes = cs.get_spike_times_ps(nn, n_ps=0, frac=0.02)\n",
    "\n",
    "si, st = zip(*spikes)"
   ]
  },
  {
   "cell_type": "code",
   "execution_count": 18,
   "metadata": {},
   "outputs": [
    {
     "data": {
      "text/plain": [
       "(45500, 46500)"
      ]
     },
     "execution_count": 18,
     "metadata": {},
     "output_type": "execute_result"
    },
    {
     "data": {
      "image/png": "[encoded data removed]",
      "text/plain": [
       "<Figure size 720x720 with 1 Axes>"
      ]
     },
     "metadata": {
      "needs_background": "light"
     },
     "output_type": "display_data"
    }
   ],
   "source": [
    "plt.figure(figsize=(10, 10))\n",
    "plt.plot(st/ms, si, ',k')\n",
    "plt.xlim([45500, 46500])"
   ]
  },
  {
   "cell_type": "code",
   "execution_count": 65,
   "metadata": {},
   "outputs": [],
   "source": [
    "set_syn_input(nn, nn.p_ass_index[0][0], 23. * second)"
   ]
  },
  {
   "cell_type": "code",
   "execution_count": 59,
   "metadata": {},
   "outputs": [
    {
     "data": {
      "text/plain": [
       "array(23.)"
      ]
     },
     "execution_count": 59,
     "metadata": {},
     "output_type": "execute_result"
    }
   ],
   "source": [
    "np.array(23.*second)"
   ]
  },
  {
   "cell_type": "code",
   "execution_count": null,
   "metadata": {},
   "outputs": [],
   "source": []
  }
 ],
 "metadata": {
  "kernelspec": {
   "display_name": "Python 3",
   "language": "python",
   "name": "python3"
  },
  "language_info": {
   "codemirror_mode": {
    "name": "ipython",
    "version": 3
   },
   "file_extension": ".py",
   "mimetype": "text/x-python",
   "name": "python",
   "nbconvert_exporter": "python",
   "pygments_lexer": "ipython3",
   "version": "3.6.10"
  }
 },
 "nbformat": 4,
 "nbformat_minor": 4
}
